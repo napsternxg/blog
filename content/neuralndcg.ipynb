{
    "nbformat": 4,
    "nbformat_minor": 0,
    "metadata": {
      "colab": {
        "provenance": []
      },
      "kernelspec": {
        "name": "python3",
        "display_name": "Python 3"
      },
      "language_info": {
        "name": "python"
      }
    },
    "cells": [
      {
        "cell_type": "markdown",
        "source": [
          "Paper: https://arxiv.org/abs/2102.07831\n"
        ],
        "metadata": {
          "id": "BKDoIXj9x0Bz"
        }
      },
      {
        "cell_type": "code",
        "execution_count": null,
        "metadata": {
          "id": "IcFZsuxnxwrl"
        },
        "outputs": [],
        "source": [
          "import numpy as np\n",
          "import matplotlib.pyplot as plt\n",
          "from matplotlib import rc\n",
          "rc('animation', html='jshtml')\n",
          "\n",
          "import torch"
        ]
      },
      {
        "cell_type": "code",
        "source": [
          "N = 10\n",
          "s = np.random.randn(N)\n",
          "s"
        ],
        "metadata": {
          "id": "HwyQxv79x613"
        },
        "execution_count": null,
        "outputs": []
      },
      {
        "cell_type": "code",
        "source": [
          "original_idx = np.arange(N)\n",
          "sorted_idx = np.argsort(s)[::-1]\n",
          "print(sorted_idx)\n",
          "[(i, j) for i, j in zip(original_idx, sorted_idx)]"
        ],
        "metadata": {
          "id": "L7sPWap9x98O"
        },
        "execution_count": null,
        "outputs": []
      },
      {
        "cell_type": "code",
        "source": [
          "# P_sort = np.zeros((N, N))\n",
          "P_sort = np.arange(N*N).reshape(N, N)\n",
          "P_sort"
        ],
        "metadata": {
          "id": "pDL1yx8-yKio"
        },
        "execution_count": null,
        "outputs": []
      },
      {
        "cell_type": "code",
        "source": [
          "P_sort[original_idx, sorted_idx]"
        ],
        "metadata": {
          "id": "3ewc3uIlyib8"
        },
        "execution_count": null,
        "outputs": []
      },
      {
        "cell_type": "code",
        "source": [
          "P_sort = np.zeros((N, N))\n",
          "P_sort[original_idx, sorted_idx] = 1\n",
          "P_sort"
        ],
        "metadata": {
          "id": "GlcBHydr0RqE"
        },
        "execution_count": null,
        "outputs": []
      },
      {
        "cell_type": "code",
        "source": [
          "[\n",
          "    (x, y)\n",
          "    for x, y in zip(s[sorted_idx], P_sort.dot(s))\n",
          "]"
        ],
        "metadata": {
          "id": "d3r3hdw6zaZ0"
        },
        "execution_count": null,
        "outputs": []
      },
      {
        "cell_type": "code",
        "source": [
          "As = np.abs(s[:, None] - s[None, :])\n",
          "As"
        ],
        "metadata": {
          "id": "wIyfK_CW0fnx"
        },
        "execution_count": null,
        "outputs": []
      },
      {
        "cell_type": "code",
        "source": [
          "plt.imshow(As, cmap=\"Reds\")\n",
          "plt.colorbar()"
        ],
        "metadata": {
          "id": "-QPAKmpF03QM"
        },
        "execution_count": null,
        "outputs": []
      },
      {
        "cell_type": "code",
        "source": [
          "As.dot(np.ones(N))"
        ],
        "metadata": {
          "id": "YVwSJetp2G_x"
        },
        "execution_count": null,
        "outputs": []
      },
      {
        "cell_type": "code",
        "source": [
          "As.dot(np.ones(N))[None, :]"
        ],
        "metadata": {
          "id": "7dqS11wD2vku"
        },
        "execution_count": null,
        "outputs": []
      },
      {
        "cell_type": "code",
        "source": [
          "from scipy.special import softmax"
        ],
        "metadata": {
          "id": "j6GTGWX43Gbw"
        },
        "execution_count": null,
        "outputs": []
      },
      {
        "cell_type": "code",
        "source": [
          "(N + 1 - 2*original_idx[:, None])*s[None, :]"
        ],
        "metadata": {
          "id": "_-vKKLSR3tNp"
        },
        "execution_count": null,
        "outputs": []
      },
      {
        "cell_type": "code",
        "source": [
          "tau = 1e-10\n",
          "\n",
          "P_sort_hat_iter = np.zeros((N, N))\n",
          "for i in range(N):\n",
          "  P_sort_hat_iter[i, :] = softmax(((N + 1 - 2*(i+1))*s - As.dot(np.ones(N))) / tau)\n",
          "\n",
          "P_sort_hat = softmax(((N + 1 - 2*(original_idx[:, None] + 1))*s - As.dot(np.ones(N))) / tau, axis=1)\n",
          "P_sort_hat, P_sort_hat_iter"
        ],
        "metadata": {
          "id": "0anXbMzF05Gl"
        },
        "execution_count": null,
        "outputs": []
      },
      {
        "cell_type": "code",
        "source": [
          "fig, ax = plt.subplots(1, 3, figsize=(15, 5))\n",
          "\n",
          "for i, (p, l) in enumerate([\n",
          "    (P_sort, \"P_sort\"),\n",
          "    (P_sort_hat_iter, \"P_sort_hat_iter\"),\n",
          "    (P_sort_hat, \"P_sort_hat\"),\n",
          "]):\n",
          "  im = ax[i].imshow(p, cmap=\"Reds\")\n",
          "  ax[i].set_title(l)\n",
          "# plt.colorbar(im)\n",
          "fig.colorbar(im, ax=ax[:], shrink=0.95, location='bottom')"
        ],
        "metadata": {
          "id": "mpwHRF-_YWTk"
        },
        "execution_count": null,
        "outputs": []
      },
      {
        "cell_type": "markdown",
        "source": [
          "# Optimize Scores via PyTorch"
        ],
        "metadata": {
          "id": "wSVahU6gbTr2"
        }
      },
      {
        "cell_type": "code",
        "source": [
          "# P_sort_hat = softmax(((N + 1 - 2*(original_idx[:, None] + 1))*s - As.dot(np.ones(N))) / tau, axis=1)\n",
          "s_tc = torch.tensor(s, requires_grad=True)\n",
          "print(s_tc)\n",
          "\n",
          "As_tc = (s_tc[:, None] - s_tc[None, :]).abs()\n",
          "print(As_tc.shape)\n",
          "\n",
          "tau = 1.0\n",
          "\n",
          "P_sort_hat_logits_tc = (\n",
          "    (N + 1 - 2*(torch.tensor(original_idx[:, None]) + 1))*s_tc - As_tc @ (torch.ones(N, 1, dtype=As_tc.dtype))\n",
          ") / tau\n",
          "\n",
          "\n",
          "P_sort_hat_tc = torch.nn.functional.softmax(P_sort_hat_logits_tc, dim=1)\n",
          "print(P_sort_hat_tc.shape)\n",
          "\n",
          "\n",
          "\n",
          "loss = torch.nn.functional.cross_entropy(P_sort_hat_logits_tc, torch.tensor(sorted_idx.copy()))\n",
          "print(loss)\n",
          "\n",
          "\n",
          "# P_sort_hat = softmax(((N + 1 - 2*(original_idx[:, None] + 1))*s - As.dot(np.ones(N))) / tau, axis=1)\n"
        ],
        "metadata": {
          "id": "y0gkiKMwIFRh"
        },
        "execution_count": null,
        "outputs": []
      },
      {
        "cell_type": "code",
        "source": [
          "loss.backward()"
        ],
        "metadata": {
          "id": "fS3AyW8XM2j1"
        },
        "execution_count": null,
        "outputs": []
      },
      {
        "cell_type": "code",
        "source": [
          "s_tc, s_tc.grad"
        ],
        "metadata": {
          "id": "c9FYJGfvM6pO"
        },
        "execution_count": null,
        "outputs": []
      },
      {
        "cell_type": "code",
        "source": [
          "fig, ax = plt.subplots(2, 1)\n",
          "im = ax[0].imshow(s_tc.detach().numpy().reshape(1, -1))\n",
          "fig.colorbar(im, ax=ax[0], location=\"bottom\")\n",
          "im = ax[1].imshow(s_tc.grad.detach().numpy().reshape(1, -1))\n",
          "fig.colorbar(im, ax=ax[1], location=\"bottom\")\n"
        ],
        "metadata": {
          "id": "VD9__DCXNIvM"
        },
        "execution_count": null,
        "outputs": []
      },
      {
        "cell_type": "code",
        "source": [
          "def get_loss(s_tc, sorted_idx, tau = 1.0):\n",
          "  # s_tc = torch.tensor(s, requires_grad=True)\n",
          "  # print(s_tc)\n",
          "\n",
          "  As_tc = (s_tc[:, None] - s_tc[None, :]).abs()\n",
          "  # print(As_tc.shape)\n",
          "\n",
          "  P_sort_hat_logits_tc = (\n",
          "      (N + 1 - 2*(torch.tensor(original_idx[:, None]) + 1))*s_tc - As_tc @ (torch.ones(N, 1, dtype=As_tc.dtype))\n",
          "  ) / tau\n",
          "\n",
          "\n",
          "  P_sort_hat_tc = torch.nn.functional.softmax(P_sort_hat_logits_tc, dim=1)\n",
          "  # print(P_sort_hat_tc.shape)\n",
          "  loss = torch.nn.functional.cross_entropy(P_sort_hat_logits_tc, torch.tensor(sorted_idx.copy()))\n",
          "  # print(loss)\n",
          "  return loss"
        ],
        "metadata": {
          "id": "ipzGLP-5PUv9"
        },
        "execution_count": null,
        "outputs": []
      },
      {
        "cell_type": "code",
        "source": [
          "from tqdm.auto import tqdm, trange"
        ],
        "metadata": {
          "id": "W5fKpo24QFpT"
        },
        "execution_count": null,
        "outputs": []
      },
      {
        "cell_type": "code",
        "source": [
          "losses = []\n",
          "s_tc_vals = []\n",
          "s_tc_grad_vals = []\n",
          "\n",
          "s_tc = torch.tensor(s, requires_grad=True)\n",
          "sorted_idx_label = np.random.permutation(N)\n",
          "print(f\"{sorted_idx_label=}\")\n",
          "\n",
          "\n",
          "optimizer = torch.optim.Adam([s_tc])\n",
          "\n",
          "s_tc_vals.append(s_tc.detach().numpy())\n",
          "\n",
          "for i in trange(5000):\n",
          "    optimizer.zero_grad()\n",
          "    loss = get_loss(s_tc, sorted_idx_label, tau = 1e-3)\n",
          "    # print(f\"{i=}\\t{loss=}\")\n",
          "    loss.backward()\n",
          "    # print(f\"{s_tc.grad=}\")\n",
          "    optimizer.step()\n",
          "    losses.append(loss.detach().numpy().item())\n",
          "    s_tc_vals.append(s_tc.detach().numpy().copy())\n",
          "    s_tc_grad_vals.append(s_tc.grad.detach().numpy().copy())"
        ],
        "metadata": {
          "id": "Tl8zB9gmPMAe"
        },
        "execution_count": null,
        "outputs": []
      },
      {
        "cell_type": "code",
        "source": [
          "plt.plot(losses)"
        ],
        "metadata": {
          "id": "Qrsc42v5PL-H"
        },
        "execution_count": null,
        "outputs": []
      },
      {
        "cell_type": "code",
        "source": [
          "# fig = plt.figure(figsize=(15, 15))\n",
          "plt.imshow(np.stack(s_tc_vals, axis=0), aspect='auto')\n",
          "plt.title(str(sorted_idx_label))\n",
          "plt.colorbar()"
        ],
        "metadata": {
          "id": "EuPOY6HqSeAd"
        },
        "execution_count": null,
        "outputs": []
      },
      {
        "cell_type": "code",
        "source": [
          "# fig = plt.figure(figsize=(15, 15))\n",
          "plt.imshow(np.stack(s_tc_grad_vals, axis=0), aspect='auto', cmap=\"bwr\")\n",
          "plt.title(str(sorted_idx_label))\n",
          "plt.colorbar()"
        ],
        "metadata": {
          "id": "Bn00yDymSd7x"
        },
        "execution_count": null,
        "outputs": []
      },
      {
        "cell_type": "code",
        "source": [
          "def optimize_scores(s_tc, sorted_idx_label, tau=1.0):\n",
          "  losses = []\n",
          "  s_tc_vals = []\n",
          "  s_tc_grad_vals = []\n",
          "  optimizer = torch.optim.Adam([s_tc])\n",
          "\n",
          "  s_tc_vals.append(s_tc.detach().numpy())\n",
          "\n",
          "  for i in trange(5000):\n",
          "      optimizer.zero_grad()\n",
          "      loss = get_loss(s_tc, sorted_idx_label, tau=tau)\n",
          "      # print(f\"{i=}\\t{loss=}\")\n",
          "      loss.backward()\n",
          "      # print(f\"{s_tc.grad=}\")\n",
          "      optimizer.step()\n",
          "      losses.append(loss.detach().numpy().item())\n",
          "      s_tc_vals.append(s_tc.detach().numpy().copy())\n",
          "      s_tc_grad_vals.append(s_tc.grad.detach().numpy().copy())\n",
          "\n",
          "  s_tc_vals = np.stack(s_tc_vals, axis=0)\n",
          "  s_tc_grad_vals = np.stack(s_tc_grad_vals, axis=0)\n",
          "\n",
          "  return losses, s_tc_vals, s_tc_grad_vals"
        ],
        "metadata": {
          "id": "AW9y4OJJTVQO"
        },
        "execution_count": null,
        "outputs": []
      },
      {
        "cell_type": "code",
        "source": [
          "tau_stats = []\n",
          "\n",
          "taus = [1e-3, 1e-2, 1e-1, 1.0, 10.0, 100.0]\n",
          "sorted_idx_label = np.random.permutation(N)\n",
          "print(f\"{sorted_idx_label=}\")\n",
          "\n",
          "for tau in tqdm(taus):\n",
          "  print(tau)\n",
          "  s_tc = torch.tensor(s, requires_grad=True)\n",
          "  stats = optimize_scores(s_tc, sorted_idx_label, tau=tau)\n",
          "  tau_stats.append((tau,) + stats)"
        ],
        "metadata": {
          "id": "Ml76qgscWT2n"
        },
        "execution_count": null,
        "outputs": []
      },
      {
        "cell_type": "code",
        "source": [
          "sorted_idx_label"
        ],
        "metadata": {
          "id": "S6fFYwzvZUHD"
        },
        "execution_count": null,
        "outputs": []
      },
      {
        "cell_type": "code",
        "source": [
          "for i, tau in enumerate(taus):\n",
          "  plt.plot(tau_stats[i][1], label=f\"{tau=:.3g}\")\n",
          "  print(f\"{tau=:>5.5g}, {min(tau_stats[i][1])=:.5g}, {max(tau_stats[i][1])=:.5g}\")\n",
          "\n",
          "plt.yscale(\"log\")\n",
          "plt.legend()"
        ],
        "metadata": {
          "id": "hr0jCpovXASJ"
        },
        "execution_count": null,
        "outputs": []
      },
      {
        "cell_type": "code",
        "source": [
          "fig, ax = plt.subplots(2, 3, figsize=(20, 10))\n",
          "vmin = min([s[2].min() for s in tau_stats])\n",
          "vmax = max([s[2].max() for s in tau_stats])\n",
          "for i, (tau, axi) in enumerate(zip(taus, ax.flatten())):\n",
          "  im = axi.imshow(tau_stats[i][2], aspect='auto')\n",
          "  axi.set_title(f\"{tau=:.3g}\")\n",
          "  fig.colorbar(im, ax=axi, location=\"right\")\n",
          "# fig.colorbar(im, ax=ax.flatten(), location=\"right\")\n",
          "fig.suptitle(f\"{sorted_idx_label=}\")"
        ],
        "metadata": {
          "id": "0jHYjJTHXbkl"
        },
        "execution_count": null,
        "outputs": []
      },
      {
        "cell_type": "code",
        "source": [
          "fig, ax = plt.subplots(2, 3, figsize=(20, 10))\n",
          "vmin = min([s[3].min() for s in tau_stats])\n",
          "vmax = max([s[3].max() for s in tau_stats])\n",
          "for i, (tau, axi) in enumerate(zip(taus, ax.flatten())):\n",
          "  im = axi.imshow(tau_stats[i][3], aspect='auto')\n",
          "  axi.set_title(f\"{tau=:.3g}\")\n",
          "  fig.colorbar(im, ax=axi, location=\"right\")\n",
          "fig.suptitle(f\"{sorted_idx_label=}\")"
        ],
        "metadata": {
          "id": "JaK_FmXGYPdA"
        },
        "execution_count": null,
        "outputs": []
      },
      {
        "cell_type": "code",
        "source": [],
        "metadata": {
          "id": "TBdH-ryTSd5M"
        },
        "execution_count": null,
        "outputs": []
      },
      {
        "cell_type": "code",
        "source": [],
        "metadata": {
          "id": "rs7Rdsv5Sd2q"
        },
        "execution_count": null,
        "outputs": []
      },
      {
        "cell_type": "code",
        "source": [],
        "metadata": {
          "id": "ElUJT7eaPL26"
        },
        "execution_count": null,
        "outputs": []
      },
      {
        "cell_type": "markdown",
        "source": [
          "# Animate"
        ],
        "metadata": {
          "id": "3YbB86YVcdCX"
        }
      },
      {
        "cell_type": "code",
        "source": [
          "taus = [1e-6, 1e-3, 0.1, 1]\n",
          "fig, ax = plt.subplots(1, 1 + len(taus), figsize=(5*(1 + len(taus)), 5))\n",
          "\n",
          "i = 0\n",
          "p = P_sort\n",
          "l = \"P_sort\"\n",
          "im = ax[i].imshow(p, cmap=\"Reds\")\n",
          "ax[i].set_title(l)\n",
          "fig.colorbar(im, ax=ax[:], shrink=0.95, location='bottom')\n",
          "\n",
          "for i, tau in enumerate(taus, start=1):\n",
          "  P_sort_hat_t = softmax(((N + 1 - 2*(original_idx[:, None] + 1))*s - As.dot(np.ones(N))) / tau, axis=1)\n",
          "  im = ax[i].imshow(P_sort_hat_t, cmap=\"Greys\")\n",
          "  ax[i].set_title(f\"P_sort_hat_t[{tau=}]\")\n",
          "# plt.colorbar(im)\n"
        ],
        "metadata": {
          "id": "1FvDM7r43S12"
        },
        "execution_count": null,
        "outputs": []
      },
      {
        "cell_type": "markdown",
        "source": [
          "## Animate"
        ],
        "metadata": {
          "id": "uAjZRsEcy6Zr"
        }
      },
      {
        "cell_type": "code",
        "source": [
          "from matplotlib.animation import FuncAnimation, ArtistAnimation"
        ],
        "metadata": {
          "id": "zqh81Lr1y73Y"
        },
        "execution_count": null,
        "outputs": []
      },
      {
        "cell_type": "code",
        "source": [
          "fig, ax = plt.subplots(1, 2, figsize=(5*2, 5))\n",
          "\n",
          "\n",
          "i = 0\n",
          "p = P_sort\n",
          "l = \"$P_{sort}$\"\n",
          "im = ax[i].imshow(p, cmap=\"Reds\")\n",
          "ax[i].set_title(l)\n",
          "fig.colorbar(im, ax=ax[:], shrink=0.95, location='bottom')\n",
          "\n",
          "\n",
          "# taus = [1e-6, 1e-3, 0.1, 1]\n",
          "taus = np.logspace(-10, 1.01, 20)\n",
          "# taus = np.linspace(0.01, 10, 20)\n",
          "\n",
          "i=1\n",
          "\n",
          "p = softmax(((N + 1 - 2*(original_idx[:, None] + 1))*s - As.dot(np.ones(N))) / tau, axis=1)\n",
          "l = \"$P_{sort}^{approx}$\"\n",
          "im = ax[i].imshow(p, cmap=\"Reds\", animated=True)\n",
          "ax_title = ax[i].set_title(f\"{l} [{tau=}]\")\n",
          "\n",
          "\n",
          "def init():\n",
          "  tau = taus[0]\n",
          "  p = softmax(((N + 1 - 2*(original_idx[:, None] + 1))*s - As.dot(np.ones(N))) / tau, axis=1)\n",
          "  im.set_data(p)\n",
          "  ax_title.set_text(f\"{l} [{tau=:.4g}]\")\n",
          "  return im, ax_title,\n",
          "\n",
          "def update(frame):\n",
          "  tau = taus[frame]\n",
          "  p = softmax(((N + 1 - 2*(original_idx[:, None] + 1))*s - As.dot(np.ones(N))) / tau, axis=1)\n",
          "  im.set_array(p)\n",
          "  ax_title.set_text(f\"{l} [{tau=:.4g}]\")\n",
          "  return im, ax_title,\n",
          "\n",
          "ani = FuncAnimation(\n",
          "  fig, update,\n",
          "  init_func=init,\n",
          "  frames=range(len(taus)),\n",
          "  interval=100,\n",
          "  blit=True,\n",
          "  repeat_delay=5000\n",
          ")\n",
          "# plt.show()\n",
          "\n",
          "ani.save(\"movie.mp4\")\n",
          "\n",
          "ani"
        ],
        "metadata": {
          "id": "AFKZWmLRcR_m"
        },
        "execution_count": null,
        "outputs": []
      },
      {
        "cell_type": "code",
        "source": [
          "def annotate_axes(ax, text, fontsize=18):\n",
          "    ax.text(0.5, 0.5, text, transform=ax.transAxes,\n",
          "            ha=\"center\", va=\"center\", fontsize=fontsize, color=\"darkgrey\")\n",
          "\n",
          "\n",
          "inner = [['innerA'],\n",
          "         ['innerB']]\n",
          "outer = [['upper left',  inner],\n",
          "          ['lower left', 'lower right']]\n",
          "\n",
          "fig, axd = plt.subplot_mosaic(outer, layout=\"constrained\")\n",
          "for k, ax in axd.items():\n",
          "    annotate_axes(ax, f'axd[{k!r}]')"
        ],
        "metadata": {
          "id": "dWvEN-hh4Jcc"
        },
        "execution_count": null,
        "outputs": []
      },
      {
        "cell_type": "code",
        "source": [
          "outer = [\n",
          "    [\"A\", \"B\"],\n",
          "    [\"A\", \"B\"],\n",
          "    [\"A\", \"B\"],\n",
          "    [\"C\", \"D\"],\n",
          "    [\"C\", \"D\"],\n",
          "    [\"E\", \"E\"],\n",
          "]\n",
          "\n",
          "fig, axd = plt.subplot_mosaic(outer, layout=\"constrained\")\n",
          "for k, ax in axd.items():\n",
          "    annotate_axes(ax, f'axd[{k!r}]')"
        ],
        "metadata": {
          "id": "8YDEldzC7oI1"
        },
        "execution_count": null,
        "outputs": []
      },
      {
        "cell_type": "code",
        "source": [
          "np.hstack([np.logspace(-4, -1, 10), np.logspace(-1, 2, 40)])"
        ],
        "metadata": {
          "id": "fBqMM6q6n9cN"
        },
        "execution_count": null,
        "outputs": []
      },
      {
        "cell_type": "code",
        "source": [
          "10**1.10"
        ],
        "metadata": {
          "id": "TY1XXvXEojbl"
        },
        "execution_count": null,
        "outputs": []
      },
      {
        "cell_type": "code",
        "source": [
          "outer = [\n",
          "    [\"A\", \"B\"],\n",
          "    [\"A\", \"B\"],\n",
          "    [\"A\", \"B\"],\n",
          "    [\"O\", \"O\"],\n",
          "    [\"C\", \"D\"],\n",
          "    # [\"C\", \"D\"],\n",
          "    # [\"E\", \"E\"],\n",
          "]\n",
          "\n",
          "fig, ax = plt.subplot_mosaic(outer, layout=\"constrained\", figsize=(12, 10))\n",
          "\n",
          "k = \"A\"\n",
          "p = P_sort\n",
          "l = \"$P_{sort}$\"\n",
          "im = ax[k].imshow(p, cmap=\"Reds\")\n",
          "ax[k].set_title(l)\n",
          "fig.colorbar(im, ax=[ax[\"A\"], ax[\"B\"]], shrink=0.99, location='bottom')\n",
          "\n",
          "\n",
          "k = \"O\"\n",
          "im_s = ax[k].imshow(s[None, :], cmap=\"Greys\")\n",
          "ax[k].set_title(\"Original Scores ($s$)\")\n",
          "ax[k].set(yticklabels=[])\n",
          "# ax[k].set_axis_off()\n",
          "\n",
          "k = \"C\"\n",
          "im_s = ax[k].imshow(p.dot(s)[None, :], cmap=\"Greys\")\n",
          "ax[k].set_title(f\"Sorted Scores ({l}$.dot(s)$)\")\n",
          "ax[k].set_axis_off()\n",
          "fig.colorbar(im_s, ax=[ax[\"C\"], ax[\"D\"]], shrink=0.99, location='bottom')\n",
          "\n",
          "\n",
          "\n",
          "# taus = [1e-6, 1e-3, 0.1, 1]\n",
          "# taus = np.logspace(-5, 1.10, 50)[::-1]\n",
          "taus = np.hstack([np.logspace(-4, -1, 10), np.logspace(-1, 2, 40)])[::-1]\n",
          "# taus = np.linspace(0.01, 10, 20)\n",
          "\n",
          "tau = 0.5\n",
          "\n",
          "k = \"B\"\n",
          "\n",
          "p = softmax(((N + 1 - 2*(original_idx[:, None] + 1))*s - As.dot(np.ones(N))) / tau, axis=1)\n",
          "l = \"$P_{sort}^{approx}$\"\n",
          "im = ax[k].imshow(p, cmap=\"Reds\", animated=True)\n",
          "ax_title = ax[k].set_title(f\"{l} [{tau=}]\")\n",
          "\n",
          "k = \"D\"\n",
          "im_s = ax[k].imshow(p.dot(s)[None, :], cmap=\"Greys\", animated=True)\n",
          "ax[k].set_axis_off()\n",
          "ax[k].set_title(f\"Sorted Scores ({l}$.dot(s)$)\")\n",
          "\n",
          "fig.suptitle(\"Soft Sort\")\n",
          "\n",
          "\n",
          "def init():\n",
          "  tau = taus[0]\n",
          "  p = softmax(((N + 1 - 2*(original_idx[:, None] + 1))*s - As.dot(np.ones(N))) / tau, axis=1)\n",
          "  im.set_data(p)\n",
          "  im_s.set_data(p.dot(s)[None, :])\n",
          "  ax_title.set_text(f\"{l} [{tau=:.4g}]\")\n",
          "  return im, ax_title, im_s\n",
          "\n",
          "def update(frame):\n",
          "  tau = taus[frame]\n",
          "  p = softmax(((N + 1 - 2*(original_idx[:, None] + 1))*s - As.dot(np.ones(N))) / tau, axis=1)\n",
          "  im.set_array(p)\n",
          "  im_s.set_array(p.dot(s)[None, :])\n",
          "  ax_title.set_text(f\"{l} [{tau=:.4g}]\")\n",
          "  return im, ax_title, im_s\n",
          "\n",
          "ani = FuncAnimation(\n",
          "  fig, update,\n",
          "  init_func=init,\n",
          "  frames=range(len(taus)),\n",
          "  interval=100,\n",
          "  blit=True,\n",
          "  repeat_delay=5000\n",
          ")\n",
          "# plt.show()\n",
          "\n",
          "# ani.save(\"movie.mp4\")\n",
          "\n",
          "ani\n"
        ],
        "metadata": {
          "id": "ImSXBhZT8P3s"
        },
        "execution_count": null,
        "outputs": []
      },
      {
        "cell_type": "code",
        "source": [
          "ani.save(\"movie.mp4\", dpi=100)"
        ],
        "metadata": {
          "id": "r777YKLwBzrC"
        },
        "execution_count": null,
        "outputs": []
      },
      {
        "cell_type": "code",
        "source": [
          "outer = [\n",
          "    [\"A\", \"B\"],\n",
          "    [\"A\", \"B\"],\n",
          "    [\"A\", \"B\"],\n",
          "    [\"O\", \"O\"],\n",
          "    [\"C\", \"D\"],\n",
          "    # [\"C\", \"D\"],\n",
          "    # [\"E\", \"E\"],\n",
          "]\n",
          "\n",
          "fig, ax = plt.subplot_mosaic(outer, layout=\"constrained\", figsize=(12, 10))\n",
          "\n",
          "k = \"A\"\n",
          "p = P_sort\n",
          "l = \"$P_{sort}$\"\n",
          "im = ax[k].imshow(p, cmap=\"Reds\")\n",
          "ax[k].set_title(l)\n",
          "fig.colorbar(im, ax=[ax[\"A\"], ax[\"B\"]], shrink=0.99, location='bottom')\n",
          "\n",
          "\n",
          "k = \"O\"\n",
          "im_s = ax[k].imshow(s[None, :], cmap=\"Greys\")\n",
          "ax[k].set_title(\"Original Scores ($s$)\")\n",
          "ax[k].set(yticklabels=[])\n",
          "# ax[k].set_axis_off()\n",
          "\n",
          "k = \"C\"\n",
          "im_s = ax[k].imshow(p.dot(s)[None, :], cmap=\"Greys\")\n",
          "ax[k].set_title(f\"{l}$.dot(s)$\")\n",
          "ax[k].set_axis_off()\n",
          "fig.colorbar(im_s, ax=[ax[\"C\"], ax[\"D\"]], shrink=0.99, location='bottom')\n",
          "\n",
          "\n",
          "\n",
          "# taus = [1e-6, 1e-3, 0.1, 1]\n",
          "# taus = np.logspace(-10, 1.01, 20)\n",
          "# taus = np.linspace(0.01, 10, 20)\n",
          "\n",
          "tau = 0.5\n",
          "\n",
          "k = \"B\"\n",
          "\n",
          "p = softmax(((N + 1 - 2*(original_idx[:, None] + 1))*s - As.dot(np.ones(N))) / tau, axis=1)\n",
          "l = \"$P_{sort}^{approx}$\"\n",
          "im = ax[k].imshow(p, cmap=\"Reds\", animated=True)\n",
          "ax_title = ax[k].set_title(f\"{l} [{tau=}]\")\n",
          "\n",
          "k = \"D\"\n",
          "im_s = ax[k].imshow(p.dot(s)[None, :], cmap=\"Greys\")\n",
          "ax[k].set_axis_off()\n",
          "ax[k].set_title(f\"{l}$.dot(s)$\")\n",
          "\n",
          "\n",
          "fig.suptitle(\"Soft Sort\")\n"
        ],
        "metadata": {
          "id": "8HKPsX5l_Tim"
        },
        "execution_count": null,
        "outputs": []
      },
      {
        "cell_type": "code",
        "source": [
          "\n",
          "taus = [1e-6, 1e-3, 0.1, 1]\n",
          "fig, ax = plt.subplots(1, 2, figsize=(5*2, 5))\n",
          "\n",
          "\n",
          "i = 0\n",
          "p = P_sort\n",
          "l = \"P_sort\"\n",
          "im = ax[i].imshow(p, cmap=\"Reds\")\n",
          "ax[i].set_title(l)\n",
          "fig.colorbar(im, ax=ax[:], shrink=0.95, location='bottom')\n",
          "\n",
          "i=1\n",
          "\n",
          "p = softmax(((N + 1 - 2*(original_idx[:, None] + 1))*s - As.dot(np.ones(N))) / tau, axis=1)\n",
          "l = \"P_sort[approx]\"\n",
          "\n",
          "\n",
          "\n",
          "ims = []\n",
          "for frame, tau in enumerate(taus):\n",
          "  p = softmax(((N + 1 - 2*(original_idx[:, None] + 1))*s - As.dot(np.ones(N))) / tau, axis=1)\n",
          "  im = ax[i].imshow(p, cmap=\"Reds\", animated=True)\n",
          "  ax_title = ax[i].set_title(f\"{l} [{tau=}]\")\n",
          "  if frame == 0:\n",
          "    ax[i].imshow(p, cmap=\"Reds\")  # show an initial one first\n",
          "    ax[i].set_title(\"\")\n",
          "  ims.append([im, ax_title])\n",
          "\n",
          "\n",
          "ani = ArtistAnimation(fig, ims, interval=1000, blit=True,\n",
          "                                repeat_delay=5000)\n",
          "\n",
          "ani.save(\"movie.mp4\")\n",
          "\n",
          "ani"
        ],
        "metadata": {
          "id": "wg0JZIE1z4XP"
        },
        "execution_count": null,
        "outputs": []
      },
      {
        "cell_type": "code",
        "source": [],
        "metadata": {
          "id": "6UxvTBaD2HGk"
        },
        "execution_count": null,
        "outputs": []
      }
    ]
  }