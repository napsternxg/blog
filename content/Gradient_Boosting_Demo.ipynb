{
  "nbformat": 4,
  "nbformat_minor": 0,
  "metadata": {
    "colab": {
      "provenance": []
    },
    "kernelspec": {
      "name": "python3",
      "display_name": "Python 3"
    },
    "language_info": {
      "name": "python"
    }
  },
  "cells": [
    {
      "cell_type": "markdown",
      "source": [
        "\n",
        "\n",
        "Source: https://www.linkedin.com/feed/update/urn:li:activity:7174123337449652224/\n",
        "\n",
        "\n",
        "# How does the training dynamics of Gradient Boosted Models look like?\n",
        "\n",
        "These models utilize functional gradient descent which means on each iteration a new weak model ($f_k$) is added whose goal is to predict the negative gradient such that for regression case $F_k(X) = F_{k-1}(X) + f_k(X) + \\epsilon$, where $F_k(X)$ is the new improved prediction and $F_{k-1}(X)$ is the current prediction.\n",
        "\n",
        "If $loss = 0.5*(y - F_{k-1}(X))^2$,\n",
        "\n",
        "then $\\large \\frac{dL}{dF_{k-1}} = -(y - F_{k-1}(X))$\n",
        "\n",
        "$\\implies f_k(X) = - \\large \\frac{dL}{dF_{k-1}}$\n",
        "\n",
        "This can now be generalized to other loss functions.\n",
        "The new $f_k(X)$ can simply be trained by regression to predict $\\large - \\frac{dL}{dF_{k-1}}$ which makes training these models easier.\n",
        "\n",
        "We can visualize the gradients and the evolution of $F_k(X)$ for both classification and regression."
      ],
      "metadata": {
        "id": "-vNR6BLB9taR"
      }
    },
    {
      "cell_type": "code",
      "execution_count": null,
      "metadata": {
        "id": "drngm0B77oI9"
      },
      "outputs": [],
      "source": [
        "import numpy as np\n",
        "import matplotlib.pyplot as plt\n",
        "from sklearn.ensemble import HistGradientBoostingRegressor\n",
        "from matplotlib import rc\n",
        "rc('animation', html='jshtml')"
      ]
    },
    {
      "cell_type": "code",
      "source": [
        "n_samples = 500\n",
        "rng = np.random.RandomState(0)\n",
        "X = rng.randn(n_samples, 1)\n",
        "noise = rng.normal(loc=0.0, scale=0.01, size=n_samples)\n",
        "y = 5 * X[:, 0] + np.sin(10 * np.pi * X[:, 0]) - noise"
      ],
      "metadata": {
        "id": "4f1aXIR4DrmM"
      },
      "execution_count": null,
      "outputs": []
    },
    {
      "cell_type": "code",
      "source": [
        "model = HistGradientBoostingRegressor().fit(X, y)\n",
        "y_pred = model.predict(X)\n",
        "\n",
        "model"
      ],
      "metadata": {
        "id": "umUMF9tEETba"
      },
      "execution_count": null,
      "outputs": []
    },
    {
      "cell_type": "code",
      "source": [
        "plt.plot(X[:, 0], y, \"bo\", ms=1)\n",
        "plt.plot(X[:, 0], y_pred, \"ro\", ms=1)\n",
        "\n",
        "# gbdt_cst = HistGradientBoostingRegressor(monotonic_cst=[1, 0]).fit(X, y)"
      ],
      "metadata": {
        "id": "CxHJ17OFDtOf"
      },
      "execution_count": null,
      "outputs": []
    },
    {
      "cell_type": "code",
      "source": [
        "y_pred_gen = model.staged_predict(X)\n",
        "y_pred_gen"
      ],
      "metadata": {
        "id": "KbM7e3kgD5mV"
      },
      "execution_count": null,
      "outputs": []
    },
    {
      "cell_type": "code",
      "source": [
        "y_pred_gen = model.staged_predict(X)\n",
        "\n",
        "plt.plot(X[:, 0], y, \"bo\", ms=1)\n",
        "for i, y_pred_stage in enumerate(y_pred_gen, start=1):\n",
        "  plt.plot(X[:, 0], y_pred_stage, \"ro\", ms=1, alpha=0.1)"
      ],
      "metadata": {
        "id": "Es6vIHBZEf5I"
      },
      "execution_count": null,
      "outputs": []
    },
    {
      "cell_type": "code",
      "source": [
        "from matplotlib.animation import FuncAnimation, ArtistAnimation"
      ],
      "metadata": {
        "id": "V_nHdtY0F75I"
      },
      "execution_count": null,
      "outputs": []
    },
    {
      "cell_type": "code",
      "source": [
        "fig, ax = plt.subplots()\n",
        "ax.plot(X[:, 0], y, \"bo\", ms=1)\n",
        "\n",
        "y_pred_gen = model.staged_predict(X)\n",
        "\n",
        "\n",
        "points, = ax.plot([], [], \"ro\", ms=1)\n",
        "title = ax.set_title(\"Iteration: 0\")\n",
        "def init():\n",
        "  points.set_xdata([])\n",
        "  points.set_ydata([])\n",
        "  return points,\n",
        "\n",
        "def update(frame):\n",
        "  i, y_pred_state = frame\n",
        "  points.set_xdata(X[:, 0])\n",
        "  points.set_ydata(y_pred_state)\n",
        "  title.set_text(f\"Iteration: {i}\")\n",
        "  return points,\n",
        "\n",
        "ani = FuncAnimation(\n",
        "  fig, update,\n",
        "  # init_func=init,\n",
        "  frames=list(enumerate(y_pred_gen, start=1)),\n",
        "  # interval=100,\n",
        "  interval=30,\n",
        "  blit=True,\n",
        "  repeat_delay=5000\n",
        ")\n",
        "\n",
        "ani.save(\"movie.mp4\")\n",
        "\n",
        "ani"
      ],
      "metadata": {
        "id": "xHSX3j05E_qx"
      },
      "execution_count": null,
      "outputs": []
    },
    {
      "cell_type": "code",
      "source": [
        "from sklearn.datasets import make_blobs, make_moons\n",
        "from sklearn.ensemble import HistGradientBoostingClassifier"
      ],
      "metadata": {
        "id": "RSNw3sLhGBJr"
      },
      "execution_count": null,
      "outputs": []
    },
    {
      "cell_type": "code",
      "source": [
        "X, y = make_blobs(n_samples, n_features=2)\n",
        "X, y = make_moons(noise=0.3, random_state=0)"
      ],
      "metadata": {
        "id": "o8-k22adKp_x"
      },
      "execution_count": null,
      "outputs": []
    },
    {
      "cell_type": "code",
      "source": [
        "x_min, x_max = X[:, 0].min() - 1, X[:, 0].max() + 1\n",
        "y_min, y_max = X[:, 1].min() - 1, X[:, 1].max() + 1\n",
        "plot_step = 0.1\n",
        "xx, yy = np.meshgrid(\n",
        "    np.arange(x_min, x_max, plot_step), np.arange(y_min, y_max, plot_step)\n",
        ")"
      ],
      "metadata": {
        "id": "F1vYtww-Ku92"
      },
      "execution_count": null,
      "outputs": []
    },
    {
      "cell_type": "code",
      "source": [
        "model = HistGradientBoostingClassifier().fit(X, y)"
      ],
      "metadata": {
        "id": "irDYrstZLjr3"
      },
      "execution_count": null,
      "outputs": []
    },
    {
      "cell_type": "code",
      "source": [
        "cmap = plt.cm.RdYlBu\n",
        "cmap_listed = plt.matplotlib.colors.ListedColormap([\"r\", \"y\", \"b\"])\n",
        "Z = model.predict(np.c_[xx.ravel(), yy.ravel()])\n",
        "Z = Z.reshape(xx.shape)\n",
        "cs = plt.contourf(xx, yy, Z, cmap=cmap)\n",
        "\n",
        "cs.remove()\n",
        "\n",
        "cs = plt.contourf(xx, yy, Z, cmap=cmap)\n",
        "\n",
        "plt.scatter(\n",
        "    X[:, 0],\n",
        "    X[:, 1],\n",
        "    c=y,\n",
        "    cmap=cmap_listed,\n",
        "    edgecolor=\"k\",\n",
        "    s=20,\n",
        ")\n"
      ],
      "metadata": {
        "id": "HzL_Rxh9LYzB"
      },
      "execution_count": null,
      "outputs": []
    },
    {
      "cell_type": "code",
      "source": [
        "cs.remove()"
      ],
      "metadata": {
        "id": "rfeW6uohLHLy"
      },
      "execution_count": null,
      "outputs": []
    },
    {
      "cell_type": "code",
      "source": [
        "fig, ax = plt.subplots()\n",
        "\n",
        "\n",
        "cmap = plt.cm.RdYlBu\n",
        "cmap_listed = plt.matplotlib.colors.ListedColormap([\"r\", \"y\", \"b\"])\n",
        "y_pred = model.predict(np.c_[xx.ravel(), yy.ravel()])\n",
        "y_pred = y_pred.reshape(xx.shape)\n",
        "\n",
        "cs = ax.contourf(xx, yy, y_pred, cmap=cmap)\n",
        "\n",
        "\n",
        "\n",
        "ax.scatter(\n",
        "    X[:, 0],\n",
        "    X[:, 1],\n",
        "    c=y,\n",
        "    cmap=cmap_listed,\n",
        "    edgecolor=\"k\",\n",
        "    s=20,\n",
        ")\n",
        "\n",
        "\n",
        "\n",
        "y_pred_gen = model.staged_predict(np.c_[xx.ravel(), yy.ravel()])\n",
        "\n",
        "title = ax.set_title(\"Iteration: 0\")\n",
        "\n",
        "\n",
        "def update(frame):\n",
        "  global cs\n",
        "  i, y_pred_state = frame\n",
        "  # cs.set_array(y_pred_state)\n",
        "  y_pred_state = y_pred_state.reshape(xx.shape)\n",
        "  cs.remove()\n",
        "  cs = ax.contourf(xx, yy, y_pred_state, cmap=cmap, alpha=0.1)\n",
        "  title.set_text(f\"Iteration: {i}\")\n",
        "  return [title,]\n",
        "\n",
        "ani = FuncAnimation(\n",
        "  fig, update,\n",
        "  # init_func=init,\n",
        "  frames=list(enumerate(y_pred_gen, start=1)),\n",
        "  # interval=100,\n",
        "  interval=30,\n",
        "  blit=True,\n",
        "  repeat_delay=5000\n",
        ")\n",
        "\n",
        "ani.save(\"movie.mp4\")\n",
        "\n",
        "ani"
      ],
      "metadata": {
        "id": "5V4bnUxdMS-V"
      },
      "execution_count": null,
      "outputs": []
    },
    {
      "cell_type": "markdown",
      "source": [
        "# Combined plots"
      ],
      "metadata": {
        "id": "ISa11SxXRTjs"
      }
    },
    {
      "cell_type": "code",
      "source": [
        "n_samples = 500\n",
        "rng = np.random.RandomState(0)\n",
        "X_reg = rng.randn(n_samples, 1)\n",
        "noise = rng.normal(loc=0.0, scale=0.01, size=n_samples)\n",
        "y_reg = 5 * X_reg[:, 0] + np.sin(10 * np.pi * X_reg[:, 0]) - noise"
      ],
      "metadata": {
        "id": "pP1oXyRENH8d"
      },
      "execution_count": null,
      "outputs": []
    },
    {
      "cell_type": "code",
      "source": [
        "X_clf, y_clf = make_moons(noise=0.3, random_state=0)\n",
        "\n",
        "x_min, x_max = X_clf[:, 0].min() - 1, X_clf[:, 0].max() + 1\n",
        "y_min, y_max = X_clf[:, 1].min() - 1, X_clf[:, 1].max() + 1\n",
        "plot_step = 0.1\n",
        "xx, yy = np.meshgrid(\n",
        "    np.arange(x_min, x_max, plot_step), np.arange(y_min, y_max, plot_step)\n",
        ")"
      ],
      "metadata": {
        "id": "Mu-Dz4ffRZLN"
      },
      "execution_count": null,
      "outputs": []
    },
    {
      "cell_type": "code",
      "source": [
        "model_reg = HistGradientBoostingRegressor().fit(X_reg, y_reg)\n",
        "model_clf = HistGradientBoostingClassifier().fit(X_clf, y_clf)"
      ],
      "metadata": {
        "id": "Py29eg0qRjRi"
      },
      "execution_count": null,
      "outputs": []
    },
    {
      "cell_type": "code",
      "source": [
        "from itertools import zip_longest"
      ],
      "metadata": {
        "id": "kv8KJk31TV5R"
      },
      "execution_count": null,
      "outputs": []
    },
    {
      "cell_type": "code",
      "source": [
        "fig, ax = plt.subplots(1, 2, figsize=(10, 5))\n",
        "\n",
        "\n",
        "ax[0].plot(X_reg[:, 0], y_reg, \"bo\", ms=1)\n",
        "points, = ax[0].plot([], [], \"ro\", ms=1)\n",
        "\n",
        "\n",
        "\n",
        "cmap = plt.cm.RdYlBu\n",
        "cmap_listed = plt.matplotlib.colors.ListedColormap([\"r\", \"y\", \"b\"])\n",
        "y_pred_clf = model.predict(np.c_[xx.ravel(), yy.ravel()])\n",
        "y_pred_clf = y_pred_clf.reshape(xx.shape)\n",
        "\n",
        "cs = ax[1].contourf(xx, yy, y_pred, cmap=cmap)\n",
        "ax[1].scatter(\n",
        "    X_clf[:, 0],\n",
        "    X_clf[:, 1],\n",
        "    c=y_clf,\n",
        "    cmap=cmap_listed,\n",
        "    edgecolor=\"k\",\n",
        "    s=20,\n",
        ")\n",
        "\n",
        "\n",
        "\n",
        "y_pred_gen_reg = model_reg.staged_predict(X_reg)\n",
        "y_pred_gen_clf = model_clf.staged_predict(np.c_[xx.ravel(), yy.ravel()])\n",
        "\n",
        "title_reg = ax[0].set_title(\"Iteration: 0\")\n",
        "title_clf = ax[1].set_title(\"Iteration: 0\")\n",
        "\n",
        "\n",
        "def update(frame):\n",
        "  global cs\n",
        "  i, (y_pred_state_reg, y_pred_state_clf) = frame\n",
        "\n",
        "\n",
        "  if y_pred_state_reg is not None:\n",
        "    points.set_xdata(X_reg[:, 0])\n",
        "    points.set_ydata(y_pred_state_reg)\n",
        "    title_reg.set_text(f\"Iteration: {i:2d}\\nRegression\")\n",
        "\n",
        "  if y_pred_state_clf is not None:\n",
        "    # cs.set_array(y_pred_state)\n",
        "    y_pred_state_clf = y_pred_state_clf.reshape(xx.shape)\n",
        "    cs.remove()\n",
        "    cs = ax[1].contourf(xx, yy, y_pred_state_clf, cmap=cmap, alpha=0.1)\n",
        "    title_clf.set_text(f\"Iteration: {i:2d}\\nClassification\")\n",
        "  return [points, title,]\n",
        "\n",
        "ani = FuncAnimation(\n",
        "  fig, update,\n",
        "  # init_func=init,\n",
        "  frames=list(enumerate(zip_longest(y_pred_gen_reg, y_pred_gen_clf), start=1)),\n",
        "  # interval=100,\n",
        "  interval=30,\n",
        "  blit=True,\n",
        "  repeat_delay=5000\n",
        ")\n",
        "\n",
        "ani.save(\"movie.mp4\")\n",
        "\n",
        "ani"
      ],
      "metadata": {
        "id": "ei55UsnVRviv"
      },
      "execution_count": null,
      "outputs": []
    },
    {
      "cell_type": "code",
      "source": [],
      "metadata": {
        "id": "Yw88bnI9TBwt"
      },
      "execution_count": null,
      "outputs": []
    }
  ]
}