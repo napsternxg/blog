{
  "nbformat": 4,
  "nbformat_minor": 0,
  "metadata": {
    "colab": {
      "provenance": []
    },
    "kernelspec": {
      "name": "python3",
      "display_name": "Python 3"
    },
    "language_info": {
      "name": "python"
    }
  },
  "cells": [
    {
      "cell_type": "code",
      "execution_count": null,
      "metadata": {
        "id": "YVgLnPBKA_yO"
      },
      "outputs": [],
      "source": [
        "import numpy as np\n",
        "import matplotlib.pyplot as plt\n",
        "from scipy.special import softmax, logsumexp\n",
        "import seaborn as sns"
      ]
    },
    {
      "cell_type": "code",
      "source": [
        "def sample_rankings(log_scores, n_samples, cutoff=None, prob_per_rank=False):\n",
        "  n_docs = log_scores.shape[0]\n",
        "  ind = np.arange(n_samples)\n",
        "\n",
        "  if cutoff:\n",
        "    ranking_len = min(n_docs, cutoff)\n",
        "  else:\n",
        "    ranking_len = n_docs\n",
        "\n",
        "  if prob_per_rank:\n",
        "    rank_prob_matrix = np.empty((ranking_len, n_docs), dtype=np.float64)\n",
        "\n",
        "  log_scores = np.tile(log_scores[None,:], (n_samples, 1))\n",
        "  rankings = np.empty((n_samples, ranking_len), dtype=np.int32)\n",
        "  inv_rankings = np.empty((n_samples, n_docs), dtype=np.int32)\n",
        "  rankings_prob = np.empty((n_samples, ranking_len), dtype=np.float64)\n",
        "\n",
        "  if cutoff:\n",
        "    inv_rankings[:] = ranking_len\n",
        "\n",
        "  for i in range(ranking_len):\n",
        "    log_scores += 18 - np.amax(log_scores, axis=1)[:, None]\n",
        "    log_denom = np.log(np.sum(np.exp(log_scores), axis=1))\n",
        "    probs = np.exp(log_scores - log_denom[:, None])\n",
        "    print(f\"{i=}\")\n",
        "    plt.figure()\n",
        "    sns.heatmap(probs)\n",
        "    plt.title(f\"{i=}\")\n",
        "    if prob_per_rank:\n",
        "      rank_prob_matrix[i, :] = np.mean(probs, axis=0)\n",
        "    cumprobs = np.cumsum(probs, axis=1)\n",
        "    random_values = np.random.uniform(size=n_samples)\n",
        "    greater_equal_mask = np.greater_equal(random_values[:,None], cumprobs)\n",
        "    sampled_ind = np.sum(greater_equal_mask, axis=1)\n",
        "\n",
        "    rankings[:, i] = sampled_ind\n",
        "    inv_rankings[ind, sampled_ind] = i\n",
        "    rankings_prob[:, i] = probs[ind, sampled_ind]\n",
        "    log_scores[ind, sampled_ind] = np.NINF\n",
        "\n",
        "  if prob_per_rank:\n",
        "    return rankings, inv_rankings, rankings_prob, rank_prob_matrix\n",
        "  else:\n",
        "    return rankings, inv_rankings, rankings_prob"
      ],
      "metadata": {
        "id": "cvIX-5AZ-huA"
      },
      "execution_count": null,
      "outputs": []
    },
    {
      "cell_type": "code",
      "source": [
        "N = 10\n",
        "n_samples = 3\n",
        "log_scores = np.random.randn(N)\n",
        "log_scores"
      ],
      "metadata": {
        "id": "GK1LDgSu-iO3"
      },
      "execution_count": null,
      "outputs": []
    },
    {
      "cell_type": "code",
      "source": [
        "rankings, inv_rankings, rankings_prob, rank_prob_matrix = sample_rankings(log_scores, n_samples, prob_per_rank=True, cutoff=5)\n",
        "rankings, inv_rankings, rankings_prob, rank_prob_matrix"
      ],
      "metadata": {
        "id": "TQT8GaEf-sXq"
      },
      "execution_count": null,
      "outputs": []
    },
    {
      "cell_type": "code",
      "source": [
        "rankings.shape, inv_rankings.shape, rankings_prob.shape, rank_prob_matrix.shape"
      ],
      "metadata": {
        "id": "fLDVgZ3_-yVk"
      },
      "execution_count": null,
      "outputs": []
    },
    {
      "cell_type": "code",
      "source": [
        "probs = np.exp(log_scores - log_scores.max())\n",
        "probs = probs / probs.sum()\n",
        "probs"
      ],
      "metadata": {
        "id": "OETT_KfN_vZn"
      },
      "execution_count": null,
      "outputs": []
    },
    {
      "cell_type": "code",
      "source": [
        "np.sort(probs)[-2]"
      ],
      "metadata": {
        "id": "d8pJHJ9MtvBL"
      },
      "execution_count": null,
      "outputs": []
    },
    {
      "cell_type": "code",
      "source": [
        "plt.plot(probs, marker=\"o\", color=\"r\")\n",
        "for i in range(3): # top 3 probs\n",
        "# plt.axhline(y=probs.max(), linestyle=\":\", lw=0.5, color=\"0.5\")\n",
        "  plt.axhline(y=np.sort(probs)[-(i+1)], linestyle=\":\", lw=0.5, color=\"0.5\")\n",
        "# plt.plot(probs.cumsum(), marker=\"s\", color=\"k\")\n",
        "for y in rankings_prob:\n",
        "  plt.plot(y, linestyle=\"--\", marker=\"x\")"
      ],
      "metadata": {
        "id": "iRm-M9yp_Dtn"
      },
      "execution_count": null,
      "outputs": []
    },
    {
      "cell_type": "code",
      "source": [
        "np.arange(5)[-2:]"
      ],
      "metadata": {
        "id": "hq9ZLnCfutys"
      },
      "execution_count": null,
      "outputs": []
    },
    {
      "cell_type": "code",
      "source": [
        "plt.plot(probs, marker=\"o\", color=\"r\")\n",
        "idx = np.argsort(probs)\n",
        "for i in range(3): # top 3 probs\n",
        "# plt.axhline(y=probs.max(), linestyle=\":\", lw=0.5, color=\"0.5\")\n",
        "\n",
        "  plt.axhline(y=probs[idx[-(i+1)]], linestyle=\":\", lw=0.5, color=\"0.5\")\n",
        "  y = probs*1.\n",
        "  y[idx[-(i+1):]] = 0\n",
        "  plt.plot(y / y.sum(), linestyle=\"--\", marker=\"o\", label=f\"{i=}\")\n",
        "plt.legend()\n",
        "\n",
        "for y in rankings_prob:\n",
        "  plt.plot(y, linestyle=\"-.\", marker=\"x\")"
      ],
      "metadata": {
        "id": "Mr5oIm7zBbDd"
      },
      "execution_count": null,
      "outputs": []
    },
    {
      "cell_type": "code",
      "source": [
        "sns.heatmap(rank_prob_matrix, square=True, annot=True, fmt=\".2f\")\n",
        "# plt.colorbar()"
      ],
      "metadata": {
        "id": "5gmGPFPO_MCc"
      },
      "execution_count": null,
      "outputs": []
    },
    {
      "cell_type": "code",
      "source": [
        "sns.heatmap(rank_prob_matrix / rank_prob_matrix.max(axis=1, keepdims=True), square=True, annot=True, fmt=\".2f\")\n",
        "# plt.colorbar()"
      ],
      "metadata": {
        "id": "1OAcUD95CdMF"
      },
      "execution_count": null,
      "outputs": []
    },
    {
      "cell_type": "code",
      "source": [
        "logits.argsort()"
      ],
      "metadata": {
        "id": "PZ8PRxS_B36V"
      },
      "execution_count": null,
      "outputs": []
    },
    {
      "cell_type": "code",
      "source": [
        "rank_prob_matrix.sum(axis=1, keepdims=True)"
      ],
      "metadata": {
        "id": "MIuHytlwAsOw"
      },
      "execution_count": null,
      "outputs": []
    },
    {
      "cell_type": "code",
      "source": [
        "log_scores_tiled = np.tile(log_scores[None,:], (n_samples, 1))\n",
        "log_scores_tiled"
      ],
      "metadata": {
        "id": "XRRpasJvBw6c"
      },
      "execution_count": null,
      "outputs": []
    },
    {
      "cell_type": "code",
      "source": [],
      "metadata": {
        "id": "dvMlFnrqItJa"
      },
      "execution_count": null,
      "outputs": []
    },
    {
      "cell_type": "code",
      "source": [
        "log_scores_tiled + 18 - np.amax(log_scores_tiled, axis=1, keepdims=True)"
      ],
      "metadata": {
        "id": "ggzeqp7_K_ev"
      },
      "execution_count": null,
      "outputs": []
    },
    {
      "cell_type": "code",
      "source": [
        "np.log(np.sum(np.exp(log_scores_tiled + 18 - np.amax(log_scores_tiled, axis=1, keepdims=True)), axis=1, keepdims=True))"
      ],
      "metadata": {
        "id": "1tXQ9utVK-4Y"
      },
      "execution_count": null,
      "outputs": []
    },
    {
      "cell_type": "code",
      "source": [
        "logsumexp(log_scores_tiled + 18 - np.amax(log_scores_tiled, axis=1, keepdims=True), axis=1, keepdims=True)"
      ],
      "metadata": {
        "id": "GimXMnaxLGjp"
      },
      "execution_count": null,
      "outputs": []
    },
    {
      "cell_type": "code",
      "source": [
        "np.exp((\n",
        "    log_scores_tiled + 18 - np.amax(log_scores_tiled, axis=1, keepdims=True)\n",
        ") - logsumexp(\n",
        "    log_scores_tiled + 18 - np.amax(log_scores_tiled, axis=1, keepdims=True), axis=1, keepdims=True\n",
        "))"
      ],
      "metadata": {
        "id": "CTYUdQlyLh27"
      },
      "execution_count": null,
      "outputs": []
    },
    {
      "cell_type": "code",
      "source": [
        "softmax(log_scores_tiled + 18 - np.amax(log_scores_tiled, axis=1, keepdims=True), axis=1)"
      ],
      "metadata": {
        "id": "1pFxsRheLtJ0"
      },
      "execution_count": null,
      "outputs": []
    },
    {
      "cell_type": "code",
      "source": [
        "ind = np.arange(n_samples)\n",
        "for i in range(3):\n",
        "  log_scores_tiled += 18 - np.amax(log_scores_tiled, axis=1, keepdims=True)\n",
        "  probs = softmax(log_scores_tiled, axis=1)\n",
        "  print(f\"{i=}\")\n",
        "  plt.figure()\n",
        "  sns.heatmap(probs, square=True, annot=True, fmt=\".2f\")\n",
        "  ###\n",
        "  cumprobs = np.cumsum(probs, axis=1)\n",
        "  random_values = np.random.uniform(size=n_samples)\n",
        "  greater_equal_mask = np.greater_equal(random_values[:,None], cumprobs)\n",
        "  sampled_ind = np.sum(greater_equal_mask, axis=1)\n",
        "\n",
        "  # rankings[:, i] = sampled_ind\n",
        "  # inv_rankings[ind, sampled_ind] = i\n",
        "  # rankings_prob[:, i] = probs[ind, sampled_ind]\n",
        "  log_scores_tiled[ind, sampled_ind] = np.NINF"
      ],
      "metadata": {
        "id": "x-rEzSFfHrSP"
      },
      "execution_count": null,
      "outputs": []
    },
    {
      "cell_type": "code",
      "source": [
        "softmax(log_scores_tiled, axis=1)"
      ],
      "metadata": {
        "id": "0mfPb_oWIwB4"
      },
      "execution_count": null,
      "outputs": []
    },
    {
      "cell_type": "code",
      "source": [
        "log_scores_tiled += 18 - np.amax(log_scores_tiled, axis=1)[:, None]\n",
        "log_denom = np.log(np.sum(np.exp(log_scores), axis=1))\n",
        "probs = np.exp(log_scores - log_denom[:, None])\n",
        "# if prob_per_rank:\n",
        "#   rank_prob_matrix[i, :] = np.mean(probs, axis=0)\n",
        "cumprobs = np.cumsum(probs, axis=1)\n",
        "random_values = np.random.uniform(size=n_samples)\n",
        "greater_equal_mask = np.greater_equal(random_values[:,None], cumprobs)\n",
        "sampled_ind = np.sum(greater_equal_mask, axis=1)\n",
        "\n",
        "rankings[:, i] = sampled_ind\n",
        "inv_rankings[ind, sampled_ind] = i\n",
        "rankings_prob[:, i] = probs[ind, sampled_ind]\n",
        "log_scores[ind, sampled_ind] = np.NINF"
      ],
      "metadata": {
        "id": "lumrJuUfHIsA"
      },
      "execution_count": null,
      "outputs": []
    }
  ]
}